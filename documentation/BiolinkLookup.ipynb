{
 "cells": [
  {
   "cell_type": "markdown",
   "metadata": {
    "slideshow": {
     "slide_type": "slide"
    }
   },
   "source": [
    "# Biolink Lookup"
   ]
  },
  {
   "cell_type": "markdown",
   "metadata": {
    "slideshow": {
     "slide_type": "slide"
    }
   },
   "source": [
    "## Introduction\n",
    "\n",
    "The Biolink Model defines a set of common concepts for use in Translator.  These include semantic types for entities, as well as the relations between them.  These concepts are organized into an inheritance hierarchy capturing different granularities of description. Furthermore, each concept contains metadata relating the concept to ontologies.\n",
    "\n",
    "The Biolink Model is formally maintained in Github [here](http://github.com/biolink/biolink-model/).  The Biolink Lookup [service](https://bl-lookup-sri.renci.org/apidocs/) provides a computational interface to the model, including access to previous versions.   When the service is deployed, it queries the Biolink Github repository, and updates itself to access the latest version."
   ]
  },
  {
   "cell_type": "markdown",
   "metadata": {
    "slideshow": {
     "slide_type": "slide"
    }
   },
   "source": [
    "## Versions\n",
    "\n",
    "Because the service allows access to multiple versions of Biolink, this function returns the list of versions that can passed as a parameter to subsequent calls.  Here, there are 3 versions: \n",
    "* **latest** which always points to the current master branch.\n",
    "* **1.2.1**\n",
    "* **custom** which is a special tag pointing at a branch of the model."
   ]
  },
  {
   "cell_type": "code",
   "execution_count": 2,
   "metadata": {
    "slideshow": {
     "slide_type": "subslide"
    }
   },
   "outputs": [
    {
     "name": "stdout",
     "output_type": "stream",
     "text": [
      "[\n",
      "  \"1.2.1\",\n",
      "  \"latest\",\n",
      "  \"custom\"\n",
      "]\n"
     ]
    }
   ],
   "source": [
    "import requests\n",
    "import json\n",
    "response = requests.get('https://bl-lookup-sri.renci.org/versions/')\n",
    "print(json.dumps(response.json(),indent=2))"
   ]
  },
  {
   "cell_type": "markdown",
   "metadata": {
    "slideshow": {
     "slide_type": "slide"
    }
   },
   "source": [
    "## Concept Lookup\n",
    "\n",
    "Biolink concepts can be retrieved to inspect their properties:"
   ]
  },
  {
   "cell_type": "code",
   "execution_count": 3,
   "metadata": {
    "slideshow": {
     "slide_type": "subslide"
    }
   },
   "outputs": [
    {
     "name": "stdout",
     "output_type": "stream",
     "text": [
      "{\n",
      "  \"name\": \"chemical substance\",\n",
      "  \"id_prefixes\": [\n",
      "    \"CHEBI\",\n",
      "    \"CHEMBL.COMPOUND\",\n",
      "    \"DRUGBANK\",\n",
      "    \"PUBCHEM\",\n",
      "    \"MESH\",\n",
      "    \"HMDB\",\n",
      "    \"INCHI\",\n",
      "    \"INCHIKEY\",\n",
      "    \"UNII\",\n",
      "    \"KEGG\",\n",
      "    \"GTOPDB\"\n",
      "  ],\n",
      "  \"definition_uri\": \"biolink:ChemicalSubstance\",\n",
      "  \"aliases\": [],\n",
      "  \"local_names\": {},\n",
      "  \"mappings\": [\n",
      "    \"SIO:010004\",\n",
      "    \"WD:Q79529\",\n",
      "    \"UMLSSC:T167\",\n",
      "    \"UMLSST:sbst\",\n",
      "    \"UMLSSG:CHEM\",\n",
      "    \"UMLSSC:T103\",\n",
      "    \"UMLSST:chem\",\n",
      "    \"UMLSSC:T104\",\n",
      "    \"UMLSST:chvs\",\n",
      "    \"UMLSSC:T109\",\n",
      "    \"UMLSST:orch\",\n",
      "    \"UMLSSC:T114\",\n",
      "    \"UMLSST:nnon\",\n",
      "    \"UMLSSC:T120\",\n",
      "    \"UMLSST:chvf\",\n",
      "    \"UMLSSC:T121\",\n",
      "    \"UMLSST:phsu\",\n",
      "    \"UMLSSC:T122\",\n",
      "    \"UMLSST:bodm\",\n",
      "    \"UMLSSC:T123\",\n",
      "    \"UMLSST:bacs\",\n",
      "    \"UMLSSC:T125\",\n",
      "    \"UMLSST:horm\",\n",
      "    \"UMLSSC:T126\",\n",
      "    \"UMLSST:enzy\",\n",
      "    \"UMLSSC:T127\",\n",
      "    \"UMLSST:vita\",\n",
      "    \"UMLSSC:T129\",\n",
      "    \"UMLSST:imft\",\n",
      "    \"UMLSSC:T130\",\n",
      "    \"UMLSST:irda\",\n",
      "    \"UMLSSC:T131\",\n",
      "    \"UMLSST:hops\",\n",
      "    \"UMLSSC:T192\",\n",
      "    \"UMLSST:rcpt\",\n",
      "    \"UMLSSC:T195\",\n",
      "    \"UMLSST:antb\",\n",
      "    \"UMLSSC:T196\",\n",
      "    \"UMLSST:elii\",\n",
      "    \"UMLSSC:T197\",\n",
      "    \"UMLSST:inch\"\n",
      "  ],\n",
      "  \"description\": \"May be a chemical entity or a formulation with a chemical entity as active ingredient, or a complex material with multiple chemical entities as part\",\n",
      "  \"alt_descriptions\": {},\n",
      "  \"deprecated\": null,\n",
      "  \"todos\": [],\n",
      "  \"notes\": [],\n",
      "  \"comments\": [],\n",
      "  \"examples\": [],\n",
      "  \"in_subset\": [],\n",
      "  \"from_schema\": \"https://w3id.org/biolink/biolink-model\",\n",
      "  \"imported_from\": null,\n",
      "  \"see_also\": [],\n",
      "  \"exact_mappings\": [],\n",
      "  \"close_mappings\": [],\n",
      "  \"related_mappings\": [],\n",
      "  \"deprecated_element_has_exact_replacement\": null,\n",
      "  \"deprecated_element_has_possible_replacement\": null,\n",
      "  \"is_a\": \"molecular entity\",\n",
      "  \"abstract\": null,\n",
      "  \"mixin\": null,\n",
      "  \"mixins\": [],\n",
      "  \"apply_to\": [],\n",
      "  \"values_from\": [],\n",
      "  \"slots\": [\n",
      "    \"id\",\n",
      "    \"name\",\n",
      "    \"category\",\n",
      "    \"related to\",\n",
      "    \"interacts with\",\n",
      "    \"node property\",\n",
      "    \"iri\",\n",
      "    \"synonym\",\n",
      "    \"full name\",\n",
      "    \"description\",\n",
      "    \"systematic synonym\",\n",
      "    \"has phenotype\",\n",
      "    \"molecularly interacts with\",\n",
      "    \"affects abundance of\",\n",
      "    \"increases abundance of\",\n",
      "    \"decreases abundance of\",\n",
      "    \"affects activity of\",\n",
      "    \"increases activity of\",\n",
      "    \"decreases activity of\",\n",
      "    \"affects expression of\",\n",
      "    \"increases expression of\",\n",
      "    \"decreases expression of\",\n",
      "    \"affects folding of\",\n",
      "    \"increases folding of\",\n",
      "    \"decreases folding of\",\n",
      "    \"affects localization of\",\n",
      "    \"increases localization of\",\n",
      "    \"decreases localization of\",\n",
      "    \"affects metabolic processing of\",\n",
      "    \"increases metabolic processing of\",\n",
      "    \"decreases metabolic processing of\",\n",
      "    \"affects molecular modification of\",\n",
      "    \"increases molecular modification of\",\n",
      "    \"decreases molecular modification of\",\n",
      "    \"affects synthesis of\",\n",
      "    \"increases synthesis of\",\n",
      "    \"decreases synthesis of\",\n",
      "    \"affects degradation of\",\n",
      "    \"increases degradation of\",\n",
      "    \"decreases degradation of\",\n",
      "    \"affects mutation rate of\",\n",
      "    \"increases mutation rate of\",\n",
      "    \"decreases mutation rate of\",\n",
      "    \"affects response to\",\n",
      "    \"increases response to\",\n",
      "    \"decreases response to\",\n",
      "    \"affects splicing of\",\n",
      "    \"increases splicing of\",\n",
      "    \"decreases splicing of\",\n",
      "    \"affects stability of\",\n",
      "    \"increases stability of\",\n",
      "    \"decreases stability of\",\n",
      "    \"affects transport of\",\n",
      "    \"increases transport of\",\n",
      "    \"decreases transport of\",\n",
      "    \"affects secretion of\",\n",
      "    \"increases secretion of\",\n",
      "    \"decreases secretion of\",\n",
      "    \"affects uptake of\",\n",
      "    \"increases uptake of\",\n",
      "    \"decreases uptake of\",\n",
      "    \"regulates, entity to entity\",\n",
      "    \"biomarker for\",\n",
      "    \"in taxon\"\n",
      "  ],\n",
      "  \"slot_usage\": {},\n",
      "  \"class_uri\": \"SIO:010004\",\n",
      "  \"subclass_of\": \"CHEBI:24431\",\n",
      "  \"union_of\": [],\n",
      "  \"defining_slots\": []\n",
      "}\n"
     ]
    }
   ],
   "source": [
    "response = requests.get('https://bl-lookup-sri.renci.org/bl/chemical_substance')\n",
    "print( json.dumps(response.json (),indent = 2 ))"
   ]
  },
  {
   "cell_type": "markdown",
   "metadata": {
    "slideshow": {
     "slide_type": "slide"
    }
   },
   "source": [
    "The call can be parameterized by version, with `latest` being used by default.  Here, we will use the custom branch.  Note that in the response, the `id_prefix` \"KEGG\" has been replaced with the identifiers.org compliant \"KEGG.COMPOUND\"."
   ]
  },
  {
   "cell_type": "code",
   "execution_count": 4,
   "metadata": {
    "slideshow": {
     "slide_type": "subslide"
    }
   },
   "outputs": [
    {
     "name": "stdout",
     "output_type": "stream",
     "text": [
      "{\n",
      "  \"name\": \"chemical substance\",\n",
      "  \"id_prefixes\": [\n",
      "    \"CHEBI\",\n",
      "    \"CHEMBL.COMPOUND\",\n",
      "    \"DRUGBANK\",\n",
      "    \"PUBCHEM\",\n",
      "    \"MESH\",\n",
      "    \"HMDB\",\n",
      "    \"INCHI\",\n",
      "    \"INCHIKEY\",\n",
      "    \"UNII\",\n",
      "    \"KEGG.COMPOUND\",\n",
      "    \"GTOPDB\"\n",
      "  ],\n",
      "  \"definition_uri\": \"biolink:ChemicalSubstance\",\n",
      "  \"aliases\": [],\n",
      "  \"local_names\": {},\n",
      "  \"mappings\": [\n",
      "    \"SIO:010004\",\n",
      "    \"WD:Q79529\",\n",
      "    \"UMLSSC:T167\",\n",
      "    \"UMLSST:sbst\",\n",
      "    \"UMLSSG:CHEM\",\n",
      "    \"UMLSSC:T103\",\n",
      "    \"UMLSST:chem\",\n",
      "    \"UMLSSC:T104\",\n",
      "    \"UMLSST:chvs\",\n",
      "    \"UMLSSC:T109\",\n",
      "    \"UMLSST:orch\",\n",
      "    \"UMLSSC:T114\",\n",
      "    \"UMLSST:nnon\",\n",
      "    \"UMLSSC:T120\",\n",
      "    \"UMLSST:chvf\",\n",
      "    \"UMLSSC:T121\",\n",
      "    \"UMLSST:phsu\",\n",
      "    \"UMLSSC:T122\",\n",
      "    \"UMLSST:bodm\",\n",
      "    \"UMLSSC:T123\",\n",
      "    \"UMLSST:bacs\",\n",
      "    \"UMLSSC:T125\",\n",
      "    \"UMLSST:horm\",\n",
      "    \"UMLSSC:T126\",\n",
      "    \"UMLSST:enzy\",\n",
      "    \"UMLSSC:T127\",\n",
      "    \"UMLSST:vita\",\n",
      "    \"UMLSSC:T129\",\n",
      "    \"UMLSST:imft\",\n",
      "    \"UMLSSC:T130\",\n",
      "    \"UMLSST:irda\",\n",
      "    \"UMLSSC:T131\",\n",
      "    \"UMLSST:hops\",\n",
      "    \"UMLSSC:T192\",\n",
      "    \"UMLSST:rcpt\",\n",
      "    \"UMLSSC:T195\",\n",
      "    \"UMLSST:antb\",\n",
      "    \"UMLSSC:T196\",\n",
      "    \"UMLSST:elii\",\n",
      "    \"UMLSSC:T197\",\n",
      "    \"UMLSST:inch\"\n",
      "  ],\n",
      "  \"description\": \"May be a chemical entity or a formulation with a chemical entity as active ingredient, or a complex material with multiple chemical entities as part\",\n",
      "  \"alt_descriptions\": {},\n",
      "  \"deprecated\": null,\n",
      "  \"todos\": [],\n",
      "  \"notes\": [],\n",
      "  \"comments\": [],\n",
      "  \"examples\": [],\n",
      "  \"in_subset\": [],\n",
      "  \"from_schema\": \"https://w3id.org/biolink/biolink-model\",\n",
      "  \"imported_from\": null,\n",
      "  \"see_also\": [],\n",
      "  \"exact_mappings\": [],\n",
      "  \"close_mappings\": [],\n",
      "  \"related_mappings\": [],\n",
      "  \"deprecated_element_has_exact_replacement\": null,\n",
      "  \"deprecated_element_has_possible_replacement\": null,\n",
      "  \"is_a\": \"molecular entity\",\n",
      "  \"abstract\": null,\n",
      "  \"mixin\": null,\n",
      "  \"mixins\": [],\n",
      "  \"apply_to\": [],\n",
      "  \"values_from\": [],\n",
      "  \"slots\": [\n",
      "    \"id\",\n",
      "    \"name\",\n",
      "    \"category\",\n",
      "    \"related to\",\n",
      "    \"interacts with\",\n",
      "    \"node property\",\n",
      "    \"iri\",\n",
      "    \"synonym\",\n",
      "    \"full name\",\n",
      "    \"description\",\n",
      "    \"systematic synonym\",\n",
      "    \"has phenotype\",\n",
      "    \"molecularly interacts with\",\n",
      "    \"affects abundance of\",\n",
      "    \"increases abundance of\",\n",
      "    \"decreases abundance of\",\n",
      "    \"affects activity of\",\n",
      "    \"increases activity of\",\n",
      "    \"decreases activity of\",\n",
      "    \"affects expression of\",\n",
      "    \"increases expression of\",\n",
      "    \"decreases expression of\",\n",
      "    \"affects folding of\",\n",
      "    \"increases folding of\",\n",
      "    \"decreases folding of\",\n",
      "    \"affects localization of\",\n",
      "    \"increases localization of\",\n",
      "    \"decreases localization of\",\n",
      "    \"affects metabolic processing of\",\n",
      "    \"increases metabolic processing of\",\n",
      "    \"decreases metabolic processing of\",\n",
      "    \"affects molecular modification of\",\n",
      "    \"increases molecular modification of\",\n",
      "    \"decreases molecular modification of\",\n",
      "    \"affects synthesis of\",\n",
      "    \"increases synthesis of\",\n",
      "    \"decreases synthesis of\",\n",
      "    \"affects degradation of\",\n",
      "    \"increases degradation of\",\n",
      "    \"decreases degradation of\",\n",
      "    \"affects mutation rate of\",\n",
      "    \"increases mutation rate of\",\n",
      "    \"decreases mutation rate of\",\n",
      "    \"affects response to\",\n",
      "    \"increases response to\",\n",
      "    \"decreases response to\",\n",
      "    \"affects splicing of\",\n",
      "    \"increases splicing of\",\n",
      "    \"decreases splicing of\",\n",
      "    \"affects stability of\",\n",
      "    \"increases stability of\",\n",
      "    \"decreases stability of\",\n",
      "    \"affects transport of\",\n",
      "    \"increases transport of\",\n",
      "    \"decreases transport of\",\n",
      "    \"affects secretion of\",\n",
      "    \"increases secretion of\",\n",
      "    \"decreases secretion of\",\n",
      "    \"affects uptake of\",\n",
      "    \"increases uptake of\",\n",
      "    \"decreases uptake of\",\n",
      "    \"regulates, entity to entity\",\n",
      "    \"biomarker for\",\n",
      "    \"in taxon\"\n",
      "  ],\n",
      "  \"slot_usage\": {},\n",
      "  \"class_uri\": \"SIO:010004\",\n",
      "  \"subclass_of\": \"CHEBI:24431\",\n",
      "  \"union_of\": [],\n",
      "  \"defining_slots\": []\n",
      "}\n"
     ]
    }
   ],
   "source": [
    "response = requests.get('https://bl-lookup-sri.renci.org/bl/chemical_substance?version=custom')\n",
    "print( json.dumps(response.json (),indent = 2 ))"
   ]
  },
  {
   "cell_type": "markdown",
   "metadata": {
    "slideshow": {
     "slide_type": "slide"
    }
   },
   "source": [
    "We can look up semantic types, as above, but we can also look up predicates (slot names):"
   ]
  },
  {
   "cell_type": "code",
   "execution_count": 5,
   "metadata": {
    "scrolled": true,
    "slideshow": {
     "slide_type": "subslide"
    }
   },
   "outputs": [
    {
     "name": "stdout",
     "output_type": "stream",
     "text": [
      "{\n",
      "  \"name\": \"causes\",\n",
      "  \"id_prefixes\": [],\n",
      "  \"definition_uri\": \"biolink:causes\",\n",
      "  \"aliases\": [],\n",
      "  \"local_names\": {},\n",
      "  \"mappings\": [\n",
      "    \"RO:0002410\",\n",
      "    \"SEMMEDDB:CAUSES\",\n",
      "    \"WD:P1542\",\n",
      "    \"MONDO:disease_triggers\"\n",
      "  ],\n",
      "  \"description\": \"holds between two entities where the occurrence, existence, or activity of one causes the occurrence or  generation of the other\",\n",
      "  \"alt_descriptions\": {},\n",
      "  \"deprecated\": null,\n",
      "  \"todos\": [],\n",
      "  \"notes\": [],\n",
      "  \"comments\": [],\n",
      "  \"examples\": [],\n",
      "  \"in_subset\": [\n",
      "    \"translator_minimal\"\n",
      "  ],\n",
      "  \"from_schema\": \"https://w3id.org/biolink/biolink-model\",\n",
      "  \"imported_from\": null,\n",
      "  \"see_also\": [],\n",
      "  \"exact_mappings\": [],\n",
      "  \"close_mappings\": [],\n",
      "  \"related_mappings\": [],\n",
      "  \"deprecated_element_has_exact_replacement\": null,\n",
      "  \"deprecated_element_has_possible_replacement\": null,\n",
      "  \"is_a\": \"contributes to\",\n",
      "  \"abstract\": null,\n",
      "  \"mixin\": null,\n",
      "  \"mixins\": [],\n",
      "  \"apply_to\": [],\n",
      "  \"values_from\": [],\n",
      "  \"singular_name\": null,\n",
      "  \"domain\": \"named thing\",\n",
      "  \"range\": \"named thing\",\n",
      "  \"slot_uri\": \"RO:0002410\",\n",
      "  \"multivalued\": true,\n",
      "  \"inherited\": true,\n",
      "  \"readonly\": null,\n",
      "  \"ifabsent\": null,\n",
      "  \"required\": null,\n",
      "  \"inlined\": null,\n",
      "  \"key\": null,\n",
      "  \"identifier\": null,\n",
      "  \"alias\": null,\n",
      "  \"owner\": \"causes\",\n",
      "  \"subproperty_of\": null,\n",
      "  \"symmetric\": null,\n",
      "  \"inverse\": \"caused by\",\n",
      "  \"is_class_field\": null,\n",
      "  \"role\": null,\n",
      "  \"is_usage_slot\": null\n",
      "}\n"
     ]
    }
   ],
   "source": [
    "response = requests.get('https://bl-lookup-sri.renci.org/bl/causes?version=custom')\n",
    "print( json.dumps(response.json (),indent = 2 ))"
   ]
  },
  {
   "cell_type": "markdown",
   "metadata": {
    "slideshow": {
     "slide_type": "slide"
    }
   },
   "source": [
    "For concepts with spacing or punctuation, they should be converted to snake_case before querying.  For instance \"negatively regulates, entity to entity\" should be queried as \"negatively_regulates__entity_to_entity\"."
   ]
  },
  {
   "cell_type": "code",
   "execution_count": 6,
   "metadata": {
    "slideshow": {
     "slide_type": "subslide"
    }
   },
   "outputs": [
    {
     "name": "stdout",
     "output_type": "stream",
     "text": [
      "{\n",
      "  \"name\": \"negatively regulates, entity to entity\",\n",
      "  \"id_prefixes\": [],\n",
      "  \"definition_uri\": \"biolink:negatively_regulates_entity_to_entity\",\n",
      "  \"aliases\": [\n",
      "    \"activity directly negatively regulates activity of\"\n",
      "  ],\n",
      "  \"local_names\": {\n",
      "    \"translator\": [\n",
      "      \"local_name_source\",\n",
      "      \"local_name_value\"\n",
      "    ],\n",
      "    \"ro\": [\n",
      "      \"local_name_source\",\n",
      "      \"local_name_value\"\n",
      "    ]\n",
      "  },\n",
      "  \"mappings\": [\n",
      "    \"RO:0002449\",\n",
      "    \"SEMMEDDB:INHIBITS\",\n",
      "    \"hetio:DOWNREGULATES_AdG\",\n",
      "    \"hetio:DOWNREGULATES_DdG\"\n",
      "  ],\n",
      "  \"description\": null,\n",
      "  \"alt_descriptions\": {},\n",
      "  \"deprecated\": null,\n",
      "  \"todos\": [],\n",
      "  \"notes\": [],\n",
      "  \"comments\": [],\n",
      "  \"examples\": [],\n",
      "  \"in_subset\": [\n",
      "    \"translator_minimal\"\n",
      "  ],\n",
      "  \"from_schema\": \"https://w3id.org/biolink/biolink-model\",\n",
      "  \"imported_from\": null,\n",
      "  \"see_also\": [],\n",
      "  \"exact_mappings\": [],\n",
      "  \"close_mappings\": [],\n",
      "  \"related_mappings\": [],\n",
      "  \"deprecated_element_has_exact_replacement\": null,\n",
      "  \"deprecated_element_has_possible_replacement\": null,\n",
      "  \"is_a\": \"regulates, entity to entity\",\n",
      "  \"abstract\": null,\n",
      "  \"mixin\": null,\n",
      "  \"mixins\": [\n",
      "    \"negatively regulates\"\n",
      "  ],\n",
      "  \"apply_to\": [],\n",
      "  \"values_from\": [],\n",
      "  \"singular_name\": null,\n",
      "  \"domain\": \"molecular entity\",\n",
      "  \"range\": \"molecular entity\",\n",
      "  \"slot_uri\": \"RO:0002449\",\n",
      "  \"multivalued\": true,\n",
      "  \"inherited\": true,\n",
      "  \"readonly\": null,\n",
      "  \"ifabsent\": null,\n",
      "  \"required\": null,\n",
      "  \"inlined\": null,\n",
      "  \"key\": null,\n",
      "  \"identifier\": null,\n",
      "  \"alias\": null,\n",
      "  \"owner\": \"negatively regulates, entity to entity\",\n",
      "  \"subproperty_of\": null,\n",
      "  \"symmetric\": null,\n",
      "  \"inverse\": null,\n",
      "  \"is_class_field\": null,\n",
      "  \"role\": null,\n",
      "  \"is_usage_slot\": null\n",
      "}\n"
     ]
    }
   ],
   "source": [
    "response = requests.get('https://bl-lookup-sri.renci.org/bl/negatively_regulates__entity_to_entity?version=custom')\n",
    "print( json.dumps(response.json (),indent = 2 ))"
   ]
  },
  {
   "cell_type": "markdown",
   "metadata": {
    "slideshow": {
     "slide_type": "slide"
    }
   },
   "source": [
    "## Slot Lookup\n",
    "\n",
    "Slots can be identified in Biolink by the `slot_uri` property, but also by `mappings`.  The following function takes an IRI and checks both properties to find a match."
   ]
  },
  {
   "cell_type": "code",
   "execution_count": 7,
   "metadata": {
    "slideshow": {
     "slide_type": "subslide"
    }
   },
   "outputs": [
    {
     "name": "stdout",
     "output_type": "stream",
     "text": [
      "[\n",
      "  \"negatively_regulates__entity_to_entity\"\n",
      "]\n"
     ]
    }
   ],
   "source": [
    "response = requests.get('https://bl-lookup-sri.renci.org/uri_lookup/RO:0002449')\n",
    "print( json.dumps(response.json (),indent = 2 ))"
   ]
  },
  {
   "cell_type": "code",
   "execution_count": 8,
   "metadata": {
    "slideshow": {
     "slide_type": "subslide"
    }
   },
   "outputs": [
    {
     "name": "stdout",
     "output_type": "stream",
     "text": [
      "[\n",
      "  \"negatively_regulates__entity_to_entity\"\n",
      "]\n"
     ]
    }
   ],
   "source": [
    "response = requests.get('https://bl-lookup-sri.renci.org/uri_lookup/SEMMEDDB:INHIBITS')\n",
    "print( json.dumps(response.json (),indent = 2 ))"
   ]
  },
  {
   "cell_type": "markdown",
   "metadata": {
    "slideshow": {
     "slide_type": "slide"
    }
   },
   "source": [
    "## Ancestors and Descendants\n",
    "\n",
    "Concepts (types and properties) can have superclasses (ancestors) and subclasses (descendants), which can be queried for by entity name.  In addition, the `lineage` function will return both ancestors and descendants."
   ]
  },
  {
   "cell_type": "code",
   "execution_count": 9,
   "metadata": {
    "slideshow": {
     "slide_type": "subslide"
    }
   },
   "outputs": [
    {
     "name": "stdout",
     "output_type": "stream",
     "text": [
      "[\n",
      "  \"macromolecular_machine\",\n",
      "  \"genomic_entity\",\n",
      "  \"molecular_entity\",\n",
      "  \"biological_entity\",\n",
      "  \"named_thing\"\n",
      "]\n"
     ]
    }
   ],
   "source": [
    "response = requests.get('https://bl-lookup-sri.renci.org/bl/gene_or_gene_product/ancestors')\n",
    "print( json.dumps(response.json (),indent = 2 ))"
   ]
  },
  {
   "cell_type": "code",
   "execution_count": 10,
   "metadata": {
    "slideshow": {
     "slide_type": "subslide"
    }
   },
   "outputs": [
    {
     "name": "stdout",
     "output_type": "stream",
     "text": [
      "[\n",
      "  \"gene_product\",\n",
      "  \"gene_product_isoform\",\n",
      "  \"protein\",\n",
      "  \"protein_isoform\",\n",
      "  \"RNA_product\",\n",
      "  \"noncoding_RNA_product\",\n",
      "  \"microRNA\",\n",
      "  \"RNA_product_isoform\",\n",
      "  \"gene\"\n",
      "]\n"
     ]
    }
   ],
   "source": [
    "response = requests.get('https://bl-lookup-sri.renci.org/bl/gene_or_gene_product/descendants')\n",
    "print( json.dumps(response.json (),indent = 2 ))"
   ]
  },
  {
   "cell_type": "code",
   "execution_count": 11,
   "metadata": {
    "slideshow": {
     "slide_type": "subslide"
    }
   },
   "outputs": [
    {
     "name": "stdout",
     "output_type": "stream",
     "text": [
      "[\n",
      "  \"gene_or_gene_product\",\n",
      "  \"macromolecular_machine\",\n",
      "  \"genomic_entity\",\n",
      "  \"molecular_entity\",\n",
      "  \"biological_entity\",\n",
      "  \"named_thing\",\n",
      "  \"gene_product\",\n",
      "  \"gene_product_isoform\",\n",
      "  \"protein\",\n",
      "  \"protein_isoform\",\n",
      "  \"RNA_product\",\n",
      "  \"noncoding_RNA_product\",\n",
      "  \"microRNA\",\n",
      "  \"RNA_product_isoform\",\n",
      "  \"gene\"\n",
      "]\n"
     ]
    }
   ],
   "source": [
    "response = requests.get('https://bl-lookup-sri.renci.org/bl/gene_or_gene_product/lineage')\n",
    "print( json.dumps(response.json (),indent = 2 ))"
   ]
  }
 ],
 "metadata": {
  "celltoolbar": "Slideshow",
  "kernelspec": {
   "display_name": "Python 3",
   "language": "python",
   "name": "python3"
  },
  "language_info": {
   "codemirror_mode": {
    "name": "ipython",
    "version": 3
   },
   "file_extension": ".py",
   "mimetype": "text/x-python",
   "name": "python",
   "nbconvert_exporter": "python",
   "pygments_lexer": "ipython3",
   "version": "3.7.5"
  },
  "rise": {
   "scroll": true
  }
 },
 "nbformat": 4,
 "nbformat_minor": 2
}
